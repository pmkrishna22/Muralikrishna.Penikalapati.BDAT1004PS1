{
 "cells": [
  {
   "cell_type": "markdown",
   "id": "2bd10a0d",
   "metadata": {},
   "source": [
    "# Question 1"
   ]
  },
  {
   "cell_type": "code",
   "execution_count": 1,
   "id": "dd5c5179",
   "metadata": {},
   "outputs": [
    {
     "name": "stdout",
     "output_type": "stream",
     "text": [
      "<class 'int'>\n",
      "<class 'float'>\n",
      "<class 'bool'>\n",
      "<class 'str'>\n",
      "<class 'int'>\n",
      "<class 'str'>\n",
      "<class 'str'>\n",
      "<class 'float'>\n",
      "<class 'int'>\n",
      "<class 'set'>\n",
      "<class 'bool'>\n",
      "<class 'float'>\n"
     ]
    }
   ],
   "source": [
    "# Data types of the following\n",
    "a=5\n",
    "b=5.0\n",
    "c=5>1\n",
    "d='5'\n",
    "e=5*2\n",
    "f='5'*2\n",
    "g='5'+'2'\n",
    "h=5/2\n",
    "i=5%2\n",
    "j={5,2,1}\n",
    "k=5 == 3\n",
    "l=3.141592653589793 #pi value the number\n",
    "print(type(a))\n",
    "print(type(b))\n",
    "print(type(c))\n",
    "print(type(d))\n",
    "print(type(e))\n",
    "print(type(f))\n",
    "print(type(g))\n",
    "print(type(h))\n",
    "print(type(i))\n",
    "print(type(j))\n",
    "print(type(k))\n",
    "print(type(l))"
   ]
  },
  {
   "cell_type": "markdown",
   "id": "c9986143",
   "metadata": {},
   "source": [
    "# Question 2"
   ]
  },
  {
   "cell_type": "code",
   "execution_count": 3,
   "id": "8354b151",
   "metadata": {},
   "outputs": [
    {
     "name": "stdout",
     "output_type": "stream",
     "text": [
      "34\n"
     ]
    }
   ],
   "source": [
    "# Question 2a\n",
    "a= \"Supercalifragilisticexpialidocious\" \n",
    "print(len(a))"
   ]
  },
  {
   "cell_type": "code",
   "execution_count": 12,
   "id": "8cf8c8f0",
   "metadata": {},
   "outputs": [
    {
     "name": "stdout",
     "output_type": "stream",
     "text": [
      "Supercalifragilisticexpialidocious has ice as substring\n"
     ]
    }
   ],
   "source": [
    "# Question 2b\n",
    "a= \"Supercalifragilisticexpialidocious\" \n",
    "if \"ice\"in a:\n",
    "    print(a +\" has ice as substring\")"
   ]
  },
  {
   "cell_type": "code",
   "execution_count": 19,
   "id": "0f21546d",
   "metadata": {},
   "outputs": [
    {
     "name": "stdout",
     "output_type": "stream",
     "text": [
      "Supercalifragilisticexpialidocious  Bababadalgharaghtakamminarronnkonn are the longest words with 34 letters\n"
     ]
    }
   ],
   "source": [
    "# Question 2c\n",
    "a=\"Supercalifragilisticexpialidocious\"\n",
    "b=\"Honorificabilitudinitatibus,\"\n",
    "c=\"Bababadalgharaghtakamminarronnkonn\"\n",
    "d=(len(a),len(b),len(c))\n",
    "e=max(d)\n",
    "if (e==len(a)):\n",
    "    f=a\n",
    "else:\n",
    "    f=\"\"\n",
    "if (e==len(b)):\n",
    "    g=b\n",
    "else:\n",
    "    g=\"\"\n",
    "if (e==len(c)):\n",
    "    h=c\n",
    "else:\n",
    "    h=\"\"\n",
    "print(f,g,h + \" are the longest words with \" + str(e) + \" letters\")\n"
   ]
  },
  {
   "cell_type": "code",
   "execution_count": 19,
   "id": "508f81e9",
   "metadata": {},
   "outputs": [
    {
     "name": "stdout",
     "output_type": "stream",
     "text": [
      "['Bartok', 'Bellini', 'Berlioz', 'Bernstein', 'Borodin', 'Brian', 'Buxtehude']\n",
      "First word in the dictionary_order is Bartok\n",
      "Last word in the dictionary_order is Buxtehude\n"
     ]
    }
   ],
   "source": [
    "# Question 2d\n",
    "words=list(['Berlioz', 'Borodin', 'Brian', 'Bartok', 'Bellini', 'Buxtehude', 'Bernstein'])\n",
    "dictionary_order=sorted(words)\n",
    "print(dictionary_order) # words in disctionary order\n",
    "print(\"First word in the dictionary_order is \" +dictionary_order[0])\n",
    "print(\"Last word in the dictionary_order is \" +dictionary_order[6])"
   ]
  },
  {
   "cell_type": "markdown",
   "id": "30ee862d",
   "metadata": {},
   "source": [
    "# Question 3"
   ]
  },
  {
   "cell_type": "code",
   "execution_count": 20,
   "id": "e1044a45",
   "metadata": {
    "scrolled": true
   },
   "outputs": [
    {
     "name": "stdout",
     "output_type": "stream",
     "text": [
      "The area of the triangle is 1.7320508075688772\n"
     ]
    }
   ],
   "source": [
    "# Area of triangle\n",
    "a = 2\n",
    "b = 2\n",
    "c = 2\n",
    "# calculate the semi-perimeter\n",
    "s = (a + b + c) / 2\n",
    "\n",
    "# Area of triangle\n",
    "area = (s*(s-a)*(s-b)*(s-c)) ** 0.5\n",
    "print('The area of the triangle is %0.16f' %area)"
   ]
  },
  {
   "cell_type": "markdown",
   "id": "e7b1fa37",
   "metadata": {},
   "source": [
    "# Question 4"
   ]
  },
  {
   "cell_type": "code",
   "execution_count": 20,
   "id": "aabfecfa",
   "metadata": {},
   "outputs": [
    {
     "name": "stdout",
     "output_type": "stream",
     "text": [
      "Even lists: [42, 56, 32]\n",
      "Odd lists: [25, 47]\n"
     ]
    }
   ],
   "source": [
    "def Split(elements): # separate odd and even integers in separate arrays\n",
    "    ev_li = []\n",
    "    od_li = []\n",
    "    for i in elements:\n",
    "        if (i % 2 == 0):\n",
    "            ev_li.append(i)\n",
    "        else:\n",
    "            od_li.append(i)\n",
    "    print(\"Even lists:\", ev_li)\n",
    "    print(\"Odd lists:\", od_li)\n",
    "\n",
    "elements = [25, 47, 42, 56, 32]\n",
    "Split(elements)"
   ]
  },
  {
   "cell_type": "markdown",
   "id": "4c050533",
   "metadata": {},
   "source": [
    "# Question 5"
   ]
  },
  {
   "cell_type": "code",
   "execution_count": 23,
   "id": "63dc59c2",
   "metadata": {},
   "outputs": [
    {
     "name": "stdout",
     "output_type": "stream",
     "text": [
      "enter lower left x coordinate: 0\n",
      "enter lower left y coordinate: 0\n",
      "enter upper right x coordinate: 2\n",
      "enter upper right y coordinate: 3\n",
      "enter x coordinate of point to be checked: 1\n",
      "enter y coordinate of point to be checked: 1\n",
      "\n",
      "True\n"
     ]
    }
   ],
   "source": [
    "# Question 5a\n",
    "def inside(a,b,a1,b1,a2,b2):\n",
    "    \n",
    "    print(x>x1 and x<x2 and y>y1 and y<y2)\n",
    "\n",
    "x1 = float(input('enter lower left x coordinate: ' ))\n",
    "y1 = float(input('enter lower left y coordinate: ' ))\n",
    "x2 = float(input('enter upper right x coordinate: ' ))\n",
    "y2 = float(input('enter upper right y coordinate: ' ))\n",
    "x = float(input('enter x coordinate of point to be checked: '))\n",
    "y = float(input('enter y coordinate of point to be checked: '))\n",
    "print()\n",
    "inside(x,y,x1,y1,x2,y2)"
   ]
  },
  {
   "cell_type": "code",
   "execution_count": 24,
   "id": "e74cc1c1",
   "metadata": {},
   "outputs": [
    {
     "name": "stdout",
     "output_type": "stream",
     "text": [
      "enter lower left x coordinate: 0\n",
      "enter lower left y coordinate: 0\n",
      "enter upper right x coordinate: 2\n",
      "enter upper right y coordinate: 3\n",
      "enter x coordinate of point to be checked: -1\n",
      "enter y coordinate of point to be checked: -1\n",
      "\n",
      "False\n"
     ]
    }
   ],
   "source": [
    "# Question 5a\n",
    "def inside(a,b,a1,b1,a2,b2):\n",
    "    \n",
    "    print(x>x1 and x<x2 and y>y1 and y<y2)\n",
    "\n",
    "x1 = float(input('enter lower left x coordinate: ' ))\n",
    "y1 = float(input('enter lower left y coordinate: ' ))\n",
    "x2 = float(input('enter upper right x coordinate: ' ))\n",
    "y2 = float(input('enter upper right y coordinate: ' ))\n",
    "x = float(input('enter x coordinate of point to be checked: '))\n",
    "y = float(input('enter y coordinate of point to be checked: '))\n",
    "print()\n",
    "inside(x,y,x1,y1,x2,y2)"
   ]
  },
  {
   "cell_type": "code",
   "execution_count": 25,
   "id": "356b125b",
   "metadata": {},
   "outputs": [
    {
     "name": "stdout",
     "output_type": "stream",
     "text": [
      "False\n"
     ]
    }
   ],
   "source": [
    "# Question 5b\n",
    "def inside(pt,r1L,r1R,r2L,r2R):\n",
    "    print(pt[0]>r1L[0] and pt[0]>r2L[0] and pt[0]<r1R[0] and pt[0]<r2R[0]\n",
    "         and pt[1]>r1L[1] and pt[1]>r2L[1] and pt[1]<r1R[1] and pt[1]<r2R[1])\n",
    "rec1_lower_left=(0.3,0.5)\n",
    "rec1_upper_right=(1.1,0.7)\n",
    "rec2_lower_left=(0.5,0.2)\n",
    "rec2_upper_right=(1.1,2)\n",
    "point=(1,1)\n",
    "inside(point,rec1_lower_left,rec1_upper_right,rec2_lower_left,rec2_upper_right)"
   ]
  },
  {
   "cell_type": "markdown",
   "id": "8b96ce9e",
   "metadata": {},
   "source": [
    "# Question 6"
   ]
  },
  {
   "cell_type": "code",
   "execution_count": 40,
   "id": "882069e8",
   "metadata": {},
   "outputs": [
    {
     "name": "stdout",
     "output_type": "stream",
     "text": [
      "Enter the word: happy\n",
      "appyhay\n"
     ]
    }
   ],
   "source": [
    "pig=input(\"Enter the word: \")\n",
    "vowels = ['a','e','i','o','u']\n",
    "\n",
    "def pigLatin(pig) :\n",
    "    pigLower = pig.lower()\n",
    "    pigFirstletter = pigLower[0]\n",
    "\n",
    "    if pigFirstletter in vowels :\n",
    "        pig = pigLower+'way'\n",
    "        return pig\n",
    "    else :\n",
    "        pig = pigLower[1:]+pigLower[0]+'ay'\n",
    "        return pig\n",
    "    \n",
    "print(pigLatin(pig))"
   ]
  },
  {
   "cell_type": "code",
   "execution_count": 41,
   "id": "75fbb489",
   "metadata": {},
   "outputs": [
    {
     "name": "stdout",
     "output_type": "stream",
     "text": [
      "Enter the word: Enter\n",
      "enterway\n"
     ]
    }
   ],
   "source": [
    "pig=input(\"Enter the word: \")\n",
    "vowels = ['a','e','i','o','u']\n",
    "\n",
    "def pigLatin(pig) :\n",
    "    pigLower = pig.lower()\n",
    "    pigFirstletter = pigLower[0]\n",
    "\n",
    "    if pigFirstletter in vowels :\n",
    "        pig = pigLower+'way'\n",
    "        return pig\n",
    "    else :\n",
    "        pig = pigLower[1:]+pigLower[0]+'ay'\n",
    "        return pig\n",
    "    \n",
    "print(pigLatin(pig))"
   ]
  },
  {
   "cell_type": "markdown",
   "id": "4d188e34",
   "metadata": {},
   "source": [
    "# Question 7"
   ]
  },
  {
   "cell_type": "code",
   "execution_count": 21,
   "id": "fb3486ff",
   "metadata": {},
   "outputs": [
    {
     "name": "stdout",
     "output_type": "stream",
     "text": [
      "There are 10 patients of blood type A\n",
      "There are 1 patients of blood type B\n",
      "There are 10 patients of blood type AB\n",
      "There are 12 patients of blood type O\n",
      "There are 0 patients of blood type OO\n"
     ]
    }
   ],
   "source": [
    "def bldcount():\n",
    "    file = open(\"blood_type.txt\")\n",
    "    file1 = file.read()\n",
    "    file.close()\n",
    "    groups = file1.split()\n",
    "    print(\"There are \" + str(groups.count(\"A\"))+ \" patients of blood type A\")\n",
    "    print(\"There are \" + str(groups.count(\"B\"))+ \" patients of blood type B\")\n",
    "    print(\"There are \" + str(groups.count(\"AB\"))+ \" patients of blood type AB\")\n",
    "    print(\"There are \" + str(groups.count(\"O\"))+ \" patients of blood type O\")\n",
    "    print(\"There are \" + str(groups.count(\"OO\"))+ \" patients of blood type OO\")\n",
    "    \n",
    "bldcount()"
   ]
  },
  {
   "cell_type": "markdown",
   "id": "df7e2737",
   "metadata": {},
   "source": [
    "# Question 8"
   ]
  },
  {
   "cell_type": "code",
   "execution_count": 10,
   "id": "8c07afcb",
   "metadata": {},
   "outputs": [
    {
     "name": "stdout",
     "output_type": "stream",
     "text": [
      "122.96544\n"
     ]
    }
   ],
   "source": [
    "def curconv(currency,amount):\n",
    "    file = open(\"currencies.txt\",)\n",
    "    file1 = file.readlines()\n",
    "    file.close()\n",
    "    for file in file1 :\n",
    "        group = file.split()\n",
    "        if currency == group[0]:\n",
    "            currency = float(group[1])\n",
    "            valueconv = amount * currency\n",
    "        \n",
    "    print(valueconv)   \n",
    "        \n",
    "curconv('EUR',100)"
   ]
  },
  {
   "cell_type": "code",
   "execution_count": 11,
   "id": "84a9e074",
   "metadata": {},
   "outputs": [
    {
     "name": "stdout",
     "output_type": "stream",
     "text": [
      "1.241401\n"
     ]
    }
   ],
   "source": [
    "def curconv(currency,amount):\n",
    "    file = open(\"currencies.txt\",)\n",
    "    file1 = file.readlines()\n",
    "    file.close()\n",
    "    for file in file1 :\n",
    "        group = file.split()\n",
    "        if currency == group[0]:\n",
    "            currency = float(group[1])\n",
    "            valueconv = amount * currency\n",
    "        \n",
    "    print(valueconv)    \n",
    "    \n",
    "curconv('JPY',100)"
   ]
  },
  {
   "cell_type": "markdown",
   "id": "8b8ff3a2",
   "metadata": {},
   "source": [
    "# Question 9"
   ]
  },
  {
   "cell_type": "code",
   "execution_count": 1,
   "id": "4443067a",
   "metadata": {},
   "outputs": [
    {
     "ename": "TypeError",
     "evalue": "unsupported operand type(s) for +: 'int' and 'str'",
     "output_type": "error",
     "traceback": [
      "\u001b[1;31m---------------------------------------------------------------------------\u001b[0m",
      "\u001b[1;31mTypeError\u001b[0m                                 Traceback (most recent call last)",
      "Input \u001b[1;32mIn [1]\u001b[0m, in \u001b[0;36m<cell line: 1>\u001b[1;34m()\u001b[0m\n\u001b[1;32m----> 1\u001b[0m \u001b[38;5;241;43m6\u001b[39;49m\u001b[43m \u001b[49m\u001b[38;5;241;43m+\u001b[39;49m\u001b[43m \u001b[49m\u001b[38;5;124;43m\"\u001b[39;49m\u001b[38;5;124;43ma\u001b[39;49m\u001b[38;5;124;43m\"\u001b[39;49m\n",
      "\u001b[1;31mTypeError\u001b[0m: unsupported operand type(s) for +: 'int' and 'str'"
     ]
    }
   ],
   "source": [
    "6 + \"a\""
   ]
  },
  {
   "cell_type": "code",
   "execution_count": 2,
   "id": "9152ca76",
   "metadata": {},
   "outputs": [
    {
     "ename": "IndexError",
     "evalue": "list index out of range",
     "output_type": "error",
     "traceback": [
      "\u001b[1;31m---------------------------------------------------------------------------\u001b[0m",
      "\u001b[1;31mIndexError\u001b[0m                                Traceback (most recent call last)",
      "Input \u001b[1;32mIn [2]\u001b[0m, in \u001b[0;36m<cell line: 2>\u001b[1;34m()\u001b[0m\n\u001b[0;32m      1\u001b[0m \u001b[38;5;28mlist\u001b[39m\u001b[38;5;241m=\u001b[39m[\u001b[38;5;241m1\u001b[39m,\u001b[38;5;241m2\u001b[39m,\u001b[38;5;241m3\u001b[39m,\u001b[38;5;241m4\u001b[39m,\u001b[38;5;241m5\u001b[39m,\u001b[38;5;241m6\u001b[39m,\u001b[38;5;241m7\u001b[39m,\u001b[38;5;241m8\u001b[39m,\u001b[38;5;241m9\u001b[39m,\u001b[38;5;241m10\u001b[39m,]\n\u001b[1;32m----> 2\u001b[0m \u001b[38;5;28mprint\u001b[39m(\u001b[38;5;28;43mlist\u001b[39;49m\u001b[43m[\u001b[49m\u001b[38;5;241;43m12\u001b[39;49m\u001b[43m]\u001b[49m)\n",
      "\u001b[1;31mIndexError\u001b[0m: list index out of range"
     ]
    }
   ],
   "source": [
    "list=[1,2,3,4,5,6,7,8,9,10,]\n",
    "print(list[12])"
   ]
  },
  {
   "cell_type": "code",
   "execution_count": 3,
   "id": "c4095de3",
   "metadata": {},
   "outputs": [
    {
     "ename": "ValueError",
     "evalue": "math domain error",
     "output_type": "error",
     "traceback": [
      "\u001b[1;31m---------------------------------------------------------------------------\u001b[0m",
      "\u001b[1;31mValueError\u001b[0m                                Traceback (most recent call last)",
      "Input \u001b[1;32mIn [3]\u001b[0m, in \u001b[0;36m<cell line: 2>\u001b[1;34m()\u001b[0m\n\u001b[0;32m      1\u001b[0m \u001b[38;5;28;01mimport\u001b[39;00m \u001b[38;5;21;01mmath\u001b[39;00m\n\u001b[1;32m----> 2\u001b[0m \u001b[38;5;28mprint\u001b[39m(\u001b[43mmath\u001b[49m\u001b[38;5;241;43m.\u001b[39;49m\u001b[43msqrt\u001b[49m\u001b[43m(\u001b[49m\u001b[38;5;241;43m-\u001b[39;49m\u001b[38;5;241;43m1.0\u001b[39;49m\u001b[43m)\u001b[49m)\n",
      "\u001b[1;31mValueError\u001b[0m: math domain error"
     ]
    }
   ],
   "source": [
    "import math\n",
    "print(math.sqrt(-1.0))"
   ]
  },
  {
   "cell_type": "code",
   "execution_count": 4,
   "id": "51a1d791",
   "metadata": {},
   "outputs": [
    {
     "ename": "NameError",
     "evalue": "name 'x' is not defined",
     "output_type": "error",
     "traceback": [
      "\u001b[1;31m---------------------------------------------------------------------------\u001b[0m",
      "\u001b[1;31mNameError\u001b[0m                                 Traceback (most recent call last)",
      "Input \u001b[1;32mIn [4]\u001b[0m, in \u001b[0;36m<cell line: 1>\u001b[1;34m()\u001b[0m\n\u001b[1;32m----> 1\u001b[0m \u001b[38;5;28mprint\u001b[39m(\u001b[43mx\u001b[49m)\n",
      "\u001b[1;31mNameError\u001b[0m: name 'x' is not defined"
     ]
    }
   ],
   "source": [
    "print(x)"
   ]
  },
  {
   "cell_type": "code",
   "execution_count": 12,
   "id": "51115dc6",
   "metadata": {},
   "outputs": [
    {
     "ename": "FileNotFoundError",
     "evalue": "[Errno 2] No such file or directory: 'currenies.txt'",
     "output_type": "error",
     "traceback": [
      "\u001b[1;31m---------------------------------------------------------------------------\u001b[0m",
      "\u001b[1;31mFileNotFoundError\u001b[0m                         Traceback (most recent call last)",
      "Input \u001b[1;32mIn [12]\u001b[0m, in \u001b[0;36m<cell line: 1>\u001b[1;34m()\u001b[0m\n\u001b[1;32m----> 1\u001b[0m f \u001b[38;5;241m=\u001b[39m \u001b[38;5;28;43mopen\u001b[39;49m\u001b[43m(\u001b[49m\u001b[38;5;124;43m'\u001b[39;49m\u001b[38;5;124;43mcurrenies.txt\u001b[39;49m\u001b[38;5;124;43m'\u001b[39;49m\u001b[43m)\u001b[49m\n",
      "\u001b[1;31mFileNotFoundError\u001b[0m: [Errno 2] No such file or directory: 'currenies.txt'"
     ]
    }
   ],
   "source": [
    "f = open('currenies.txt')"
   ]
  },
  {
   "cell_type": "markdown",
   "id": "d6208c37",
   "metadata": {},
   "source": [
    "# Question 10"
   ]
  },
  {
   "cell_type": "code",
   "execution_count": 26,
   "id": "6d77e1c1",
   "metadata": {},
   "outputs": [
    {
     "name": "stdout",
     "output_type": "stream",
     "text": [
      "['1', '1', '1', '3', '5', '1', '1', '2', '1', '0', '1', '0', '1', '2', '4', '0', '1', '2', '0', '2', '1', '0', '1', '1', '0', '0']\n",
      "['1', '0', '0', '0', '1', '0', '0', '0', '0', '0', '0', '1', '0', '0', '0', '2', '0', '0', '0', '0', '0', '0', '0', '0', '0', '0']\n"
     ]
    }
   ],
   "source": [
    "def frequencies(line):\n",
    "    frequenciesofline = []\n",
    "    alphabets = \"abcdefghijklmnopqrstuvwxyz\"\n",
    "    for each in alphabets:\n",
    "        alphabetcount = (line.count(each))\n",
    "        frequenciesofline +=  str(alphabetcount)\n",
    "    print(frequenciesofline)\n",
    "    \n",
    "frequencies(\"The quick red fox got bored and went home.\")\n",
    "frequencies(\"apple\")"
   ]
  }
 ],
 "metadata": {
  "kernelspec": {
   "display_name": "Python 3 (ipykernel)",
   "language": "python",
   "name": "python3"
  },
  "language_info": {
   "codemirror_mode": {
    "name": "ipython",
    "version": 3
   },
   "file_extension": ".py",
   "mimetype": "text/x-python",
   "name": "python",
   "nbconvert_exporter": "python",
   "pygments_lexer": "ipython3",
   "version": "3.9.12"
  }
 },
 "nbformat": 4,
 "nbformat_minor": 5
}
